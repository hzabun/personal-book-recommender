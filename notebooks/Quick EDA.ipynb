{
 "cells": [
  {
   "cell_type": "markdown",
   "id": "60575fd7-5115-4f67-b4ad-ab6b1eb56809",
   "metadata": {},
   "source": [
    "# Quick EDA book-crossing dataset"
   ]
  },
  {
   "cell_type": "code",
   "execution_count": 1,
   "id": "d5ee5aa6",
   "metadata": {},
   "outputs": [],
   "source": [
    "import pandas as pd"
   ]
  },
  {
   "cell_type": "code",
   "execution_count": 2,
   "id": "47de47f5",
   "metadata": {},
   "outputs": [],
   "source": [
    "ratings = pd.read_csv(\"../data/raw/BX-Book-Ratings.csv\", delimiter=\";\")\n",
    "books = pd.read_csv(\"../data/raw/BX-Books.csv\", delimiter=\";\", escapechar='\\\\')\n",
    "users = pd.read_csv(\"../data/raw/BX-Users.csv\", delimiter=\";\")"
   ]
  },
  {
   "cell_type": "markdown",
   "id": "74017f38",
   "metadata": {},
   "source": [
    "## First overview"
   ]
  },
  {
   "cell_type": "markdown",
   "id": "f1f43b48",
   "metadata": {},
   "source": [
    "### Data types and missing values"
   ]
  },
  {
   "cell_type": "code",
   "execution_count": 3,
   "id": "d15453f4",
   "metadata": {},
   "outputs": [
    {
     "name": "stdout",
     "output_type": "stream",
     "text": [
      "<class 'pandas.core.frame.DataFrame'>\n",
      "RangeIndex: 1149780 entries, 0 to 1149779\n",
      "Data columns (total 3 columns):\n",
      " #   Column       Non-Null Count    Dtype \n",
      "---  ------       --------------    ----- \n",
      " 0   User-ID      1149780 non-null  int64 \n",
      " 1   ISBN         1149780 non-null  object\n",
      " 2   Book-Rating  1149780 non-null  int64 \n",
      "dtypes: int64(2), object(1)\n",
      "memory usage: 26.3+ MB\n"
     ]
    }
   ],
   "source": [
    "ratings.info()"
   ]
  },
  {
   "cell_type": "markdown",
   "id": "29908f82",
   "metadata": {},
   "source": [
    "No null values, ISBN stored as object. Likely due to the letter \"X\" in ISBN-10."
   ]
  },
  {
   "cell_type": "code",
   "execution_count": 4,
   "id": "7c209a63",
   "metadata": {},
   "outputs": [
    {
     "name": "stdout",
     "output_type": "stream",
     "text": [
      "<class 'pandas.core.frame.DataFrame'>\n",
      "RangeIndex: 271379 entries, 0 to 271378\n",
      "Data columns (total 8 columns):\n",
      " #   Column               Non-Null Count   Dtype \n",
      "---  ------               --------------   ----- \n",
      " 0   ISBN                 271379 non-null  object\n",
      " 1   Book-Title           271379 non-null  object\n",
      " 2   Book-Author          271377 non-null  object\n",
      " 3   Year-Of-Publication  271379 non-null  int64 \n",
      " 4   Publisher            271377 non-null  object\n",
      " 5   Image-URL-S          271379 non-null  object\n",
      " 6   Image-URL-M          271379 non-null  object\n",
      " 7   Image-URL-L          271379 non-null  object\n",
      "dtypes: int64(1), object(7)\n",
      "memory usage: 16.6+ MB\n"
     ]
    }
   ],
   "source": [
    "books.info()"
   ]
  },
  {
   "cell_type": "markdown",
   "id": "54614c8e",
   "metadata": {},
   "source": [
    "No null values, ISBN again stored as object."
   ]
  },
  {
   "cell_type": "code",
   "execution_count": 5,
   "id": "f36fe29a",
   "metadata": {},
   "outputs": [
    {
     "name": "stdout",
     "output_type": "stream",
     "text": [
      "<class 'pandas.core.frame.DataFrame'>\n",
      "RangeIndex: 278858 entries, 0 to 278857\n",
      "Data columns (total 3 columns):\n",
      " #   Column    Non-Null Count   Dtype  \n",
      "---  ------    --------------   -----  \n",
      " 0   User-ID   278858 non-null  int64  \n",
      " 1   Location  278858 non-null  object \n",
      " 2   Age       168096 non-null  float64\n",
      "dtypes: float64(1), int64(1), object(1)\n",
      "memory usage: 6.4+ MB\n"
     ]
    }
   ],
   "source": [
    "users.info()"
   ]
  },
  {
   "cell_type": "markdown",
   "id": "e431bdbb",
   "metadata": {},
   "source": [
    "No null values."
   ]
  },
  {
   "cell_type": "markdown",
   "id": "b61e139f",
   "metadata": {},
   "source": [
    "### Dataset choice"
   ]
  },
  {
   "cell_type": "markdown",
   "id": "609b104b",
   "metadata": {},
   "source": [
    "Main interest for this project are the following features:\n",
    "- ISBN to identify book\n",
    "- user ID to create profile of user preference\n",
    "- book rating to express which book each user liked how much\n",
    "- genre for interaction with the model later on (will be added in the script via API and ISBN)\n",
    "- book title to remember book easier\n",
    "\n",
    "Nice to have features as miscellaneous information:\n",
    "- book author\n",
    "- year of publication \n",
    "- publisher\n",
    "\n",
    "Not required features:\n",
    "- user location\n",
    "- user age\n",
    "- image URLs\n",
    "\n",
    "Given the not required features, the **users** dataset can be fully excluded. Additionally, the image URLs can be removed from the **books** dataset."
   ]
  },
  {
   "cell_type": "code",
   "execution_count": 6,
   "id": "ec93f01c",
   "metadata": {},
   "outputs": [],
   "source": [
    "books.drop(['Image-URL-S','Image-URL-M','Image-URL-L'], axis=1, inplace=True)"
   ]
  },
  {
   "cell_type": "markdown",
   "id": "062fbae9",
   "metadata": {},
   "source": [
    "### Rename columns"
   ]
  },
  {
   "cell_type": "code",
   "execution_count": 7,
   "id": "5a3fc5c1",
   "metadata": {},
   "outputs": [],
   "source": [
    "ratings.columns = ['user_id', 'isbn', 'book_rating']\n",
    "books.columns = [\"isbn\", \"book_title\", \"book_author\", \"publication_year\", \"publisher\"] "
   ]
  },
  {
   "cell_type": "markdown",
   "id": "e756f969",
   "metadata": {},
   "source": [
    "## Analyzing numerical features"
   ]
  },
  {
   "cell_type": "markdown",
   "id": "0d5c08cd",
   "metadata": {},
   "source": [
    "### Ratings distribution"
   ]
  },
  {
   "cell_type": "code",
   "execution_count": 8,
   "id": "e52db715",
   "metadata": {},
   "outputs": [
    {
     "data": {
      "text/html": [
       "<div>\n",
       "<style scoped>\n",
       "    .dataframe tbody tr th:only-of-type {\n",
       "        vertical-align: middle;\n",
       "    }\n",
       "\n",
       "    .dataframe tbody tr th {\n",
       "        vertical-align: top;\n",
       "    }\n",
       "\n",
       "    .dataframe thead th {\n",
       "        text-align: right;\n",
       "    }\n",
       "</style>\n",
       "<table border=\"1\" class=\"dataframe\">\n",
       "  <thead>\n",
       "    <tr style=\"text-align: right;\">\n",
       "      <th></th>\n",
       "      <th>user_id</th>\n",
       "      <th>book_rating</th>\n",
       "    </tr>\n",
       "  </thead>\n",
       "  <tbody>\n",
       "    <tr>\n",
       "      <th>count</th>\n",
       "      <td>1.149780e+06</td>\n",
       "      <td>1.149780e+06</td>\n",
       "    </tr>\n",
       "    <tr>\n",
       "      <th>mean</th>\n",
       "      <td>1.403864e+05</td>\n",
       "      <td>2.866950e+00</td>\n",
       "    </tr>\n",
       "    <tr>\n",
       "      <th>std</th>\n",
       "      <td>8.056228e+04</td>\n",
       "      <td>3.854184e+00</td>\n",
       "    </tr>\n",
       "    <tr>\n",
       "      <th>min</th>\n",
       "      <td>2.000000e+00</td>\n",
       "      <td>0.000000e+00</td>\n",
       "    </tr>\n",
       "    <tr>\n",
       "      <th>25%</th>\n",
       "      <td>7.034500e+04</td>\n",
       "      <td>0.000000e+00</td>\n",
       "    </tr>\n",
       "    <tr>\n",
       "      <th>50%</th>\n",
       "      <td>1.410100e+05</td>\n",
       "      <td>0.000000e+00</td>\n",
       "    </tr>\n",
       "    <tr>\n",
       "      <th>75%</th>\n",
       "      <td>2.110280e+05</td>\n",
       "      <td>7.000000e+00</td>\n",
       "    </tr>\n",
       "    <tr>\n",
       "      <th>max</th>\n",
       "      <td>2.788540e+05</td>\n",
       "      <td>1.000000e+01</td>\n",
       "    </tr>\n",
       "  </tbody>\n",
       "</table>\n",
       "</div>"
      ],
      "text/plain": [
       "            user_id   book_rating\n",
       "count  1.149780e+06  1.149780e+06\n",
       "mean   1.403864e+05  2.866950e+00\n",
       "std    8.056228e+04  3.854184e+00\n",
       "min    2.000000e+00  0.000000e+00\n",
       "25%    7.034500e+04  0.000000e+00\n",
       "50%    1.410100e+05  0.000000e+00\n",
       "75%    2.110280e+05  7.000000e+00\n",
       "max    2.788540e+05  1.000000e+01"
      ]
     },
     "execution_count": 8,
     "metadata": {},
     "output_type": "execute_result"
    }
   ],
   "source": [
    "ratings.describe()"
   ]
  },
  {
   "cell_type": "markdown",
   "id": "087ea143",
   "metadata": {},
   "source": [
    "Rating scale seems to go from 0 to 10 and the average is at around 4."
   ]
  },
  {
   "cell_type": "code",
   "execution_count": 9,
   "id": "9c162fdb",
   "metadata": {},
   "outputs": [
    {
     "data": {
      "image/png": "[encoded data removed]",
      "text/plain": [
       "<Figure size 640x480 with 1 Axes>"
      ]
     },
     "metadata": {},
     "output_type": "display_data"
    }
   ],
   "source": [
    "import matplotlib.pyplot as plt\n",
    "\n",
    "plt.hist(ratings[\"book_rating\"], color='tab:blue', edgecolor='black')\n",
    "\n",
    "plt.xlabel('Ratings')\n",
    "plt.ylabel('Frequency')\n",
    "plt.title('Ratings distribution')\n",
    "\n",
    "plt.show()\n"
   ]
  },
  {
   "cell_type": "markdown",
   "id": "1a36b484",
   "metadata": {},
   "source": [
    "Bulk of the ratings are set to 0, which scews the mean to around 4.\n",
    "\n",
    "**Note:** 0 does not mean that a user utterly dislikes a book. Rather, it means that a user likes a book but didn't give any rating. So we're essentially missing information here. The dataframe will be split into two categories in the code scripts later. It's okay to leave it as is for this quick EDA."
   ]
  },
  {
   "cell_type": "code",
   "execution_count": 10,
   "id": "c06a1131",
   "metadata": {},
   "outputs": [],
   "source": [
    "# explicit_ratings = ratings[ratings[\"Book-Rating\"] != 0]\n",
    "# implicit_ratings = ratings[ratings[\"Book-Rating\"] == 0]"
   ]
  },
  {
   "cell_type": "markdown",
   "id": "d3a17791",
   "metadata": {},
   "source": [
    "### publication year distribution"
   ]
  },
  {
   "cell_type": "code",
   "execution_count": 11,
   "id": "2c7417df",
   "metadata": {},
   "outputs": [
    {
     "data": {
      "text/html": [
       "<div>\n",
       "<style scoped>\n",
       "    .dataframe tbody tr th:only-of-type {\n",
       "        vertical-align: middle;\n",
       "    }\n",
       "\n",
       "    .dataframe tbody tr th {\n",
       "        vertical-align: top;\n",
       "    }\n",
       "\n",
       "    .dataframe thead th {\n",
       "        text-align: right;\n",
       "    }\n",
       "</style>\n",
       "<table border=\"1\" class=\"dataframe\">\n",
       "  <thead>\n",
       "    <tr style=\"text-align: right;\">\n",
       "      <th></th>\n",
       "      <th>publication_year</th>\n",
       "    </tr>\n",
       "  </thead>\n",
       "  <tbody>\n",
       "    <tr>\n",
       "      <th>count</th>\n",
       "      <td>271379.000000</td>\n",
       "    </tr>\n",
       "    <tr>\n",
       "      <th>mean</th>\n",
       "      <td>1959.756050</td>\n",
       "    </tr>\n",
       "    <tr>\n",
       "      <th>std</th>\n",
       "      <td>258.011363</td>\n",
       "    </tr>\n",
       "    <tr>\n",
       "      <th>min</th>\n",
       "      <td>0.000000</td>\n",
       "    </tr>\n",
       "    <tr>\n",
       "      <th>25%</th>\n",
       "      <td>1989.000000</td>\n",
       "    </tr>\n",
       "    <tr>\n",
       "      <th>50%</th>\n",
       "      <td>1995.000000</td>\n",
       "    </tr>\n",
       "    <tr>\n",
       "      <th>75%</th>\n",
       "      <td>2000.000000</td>\n",
       "    </tr>\n",
       "    <tr>\n",
       "      <th>max</th>\n",
       "      <td>2050.000000</td>\n",
       "    </tr>\n",
       "  </tbody>\n",
       "</table>\n",
       "</div>"
      ],
      "text/plain": [
       "       publication_year\n",
       "count     271379.000000\n",
       "mean        1959.756050\n",
       "std          258.011363\n",
       "min            0.000000\n",
       "25%         1989.000000\n",
       "50%         1995.000000\n",
       "75%         2000.000000\n",
       "max         2050.000000"
      ]
     },
     "execution_count": 11,
     "metadata": {},
     "output_type": "execute_result"
    }
   ],
   "source": [
    "books.describe()"
   ]
  },
  {
   "cell_type": "markdown",
   "id": "130122a2",
   "metadata": {},
   "source": [
    "Publication years span from 0 all the way to 2050. Both extremes need to be dealt accordingly, but as the publication year is not important for this project, further cleaning will not be applied here."
   ]
  },
  {
   "cell_type": "markdown",
   "id": "99ed630f",
   "metadata": {},
   "source": [
    "## Clean ISBN numbers"
   ]
  },
  {
   "cell_type": "markdown",
   "id": "2462e10c",
   "metadata": {},
   "source": [
    "There are two official types of ISBNs:\n",
    "- ISBN-10 consisting of 10 digits\n",
    "- ISBN-13 consisting of 13 digits"
   ]
  },
  {
   "cell_type": "code",
   "execution_count": 12,
   "id": "c49d01e3",
   "metadata": {},
   "outputs": [
    {
     "data": {
      "text/plain": [
       "isbn\n",
       "10    1139363\n",
       "9        5139\n",
       "11       2150\n",
       "13       1740\n",
       "12        700\n",
       "8         678\n",
       "14         10\n",
       "Name: count, dtype: int64"
      ]
     },
     "execution_count": 12,
     "metadata": {},
     "output_type": "execute_result"
    }
   ],
   "source": [
    "ratings[\"isbn\"].apply(len).value_counts()"
   ]
  },
  {
   "cell_type": "markdown",
   "id": "f4d5bd31",
   "metadata": {},
   "source": [
    "Many ISBN rows have neither 10 digits nor 13 digits. Each row should be checked for valid ISBN format by converting them to canonical form."
   ]
  },
  {
   "cell_type": "code",
   "execution_count": 13,
   "id": "1a3d9e73",
   "metadata": {},
   "outputs": [
    {
     "data": {
      "text/plain": [
       "isbn\n",
       "10    271375\n",
       "13         3\n",
       "11         1\n",
       "Name: count, dtype: int64"
      ]
     },
     "execution_count": 13,
     "metadata": {},
     "output_type": "execute_result"
    }
   ],
   "source": [
    "books[\"isbn\"].apply(len).value_counts()"
   ]
  },
  {
   "cell_type": "markdown",
   "id": "e205ee18",
   "metadata": {},
   "source": [
    "Only 1 row with an unusual number of digits. Same as above, each row should be checked for valid ISBN format by converting them to canonical form."
   ]
  },
  {
   "cell_type": "code",
   "execution_count": 14,
   "id": "3e37b06d",
   "metadata": {},
   "outputs": [],
   "source": [
    "import isbnlib\n",
    "ratings[\"isbn\"] = ratings[\"isbn\"].apply(isbnlib.canonical)\n",
    "books[\"isbn\"] = books[\"isbn\"].apply(isbnlib.canonical)"
   ]
  },
  {
   "cell_type": "code",
   "execution_count": 15,
   "id": "ca8d9641",
   "metadata": {},
   "outputs": [
    {
     "data": {
      "text/plain": [
       "isbn\n",
       "10    1139303\n",
       "0        9293\n",
       "13       1184\n",
       "Name: count, dtype: int64"
      ]
     },
     "execution_count": 15,
     "metadata": {},
     "output_type": "execute_result"
    }
   ],
   "source": [
    "ratings[\"isbn\"].apply(len).value_counts()"
   ]
  },
  {
   "cell_type": "code",
   "execution_count": 16,
   "id": "d87bb159",
   "metadata": {},
   "outputs": [
    {
     "data": {
      "text/plain": [
       "isbn\n",
       "10    271262\n",
       "0        117\n",
       "Name: count, dtype: int64"
      ]
     },
     "execution_count": 16,
     "metadata": {},
     "output_type": "execute_result"
    }
   ],
   "source": [
    "books[\"isbn\"].apply(len).value_counts()"
   ]
  },
  {
   "cell_type": "markdown",
   "id": "e74ae89c",
   "metadata": {},
   "source": [
    "Now we only have valid ISBN formats. Invalid ones were mapped to an empty string and can be removed."
   ]
  },
  {
   "cell_type": "code",
   "execution_count": 17,
   "id": "456f912c",
   "metadata": {},
   "outputs": [],
   "source": [
    "ratings = ratings[ratings[\"isbn\"] != \"\"]\n",
    "books = books[books[\"isbn\"] != \"\"]"
   ]
  },
  {
   "cell_type": "markdown",
   "id": "f9b1bd09",
   "metadata": {},
   "source": [
    "## Check for duplicates"
   ]
  },
  {
   "cell_type": "markdown",
   "id": "9a4eb289",
   "metadata": {},
   "source": [
    "### Duplicate ratings"
   ]
  },
  {
   "cell_type": "markdown",
   "id": "f85b1f5c",
   "metadata": {},
   "source": [
    "First, we check for rows containing users who have multiple ratings for a single specific book."
   ]
  },
  {
   "cell_type": "code",
   "execution_count": 18,
   "id": "1a34c2c2",
   "metadata": {},
   "outputs": [
    {
     "data": {
      "text/plain": [
       "15"
      ]
     },
     "execution_count": 18,
     "metadata": {},
     "output_type": "execute_result"
    }
   ],
   "source": [
    "ratings.duplicated(subset=[\"user_id\", \"isbn\"]).sum()"
   ]
  },
  {
   "cell_type": "markdown",
   "id": "61abe100",
   "metadata": {},
   "source": [
    "It's tricky to decide which rating of the user to keep for a single book. To prevent bias, all rows containing duplicates will be simply removed. This shouldn't affect the precision much as the number of duplicates is low compared to the total number of ratings."
   ]
  },
  {
   "cell_type": "code",
   "execution_count": 19,
   "id": "77e48f4a",
   "metadata": {},
   "outputs": [],
   "source": [
    "ratings = ratings.drop_duplicates(subset=[\"user_id\", \"isbn\"], keep=False)"
   ]
  },
  {
   "cell_type": "markdown",
   "id": "522458cd",
   "metadata": {},
   "source": [
    "## Duplicate books"
   ]
  },
  {
   "cell_type": "markdown",
   "id": "264064d5",
   "metadata": {},
   "source": [
    "This time we check for duplicate ISBN numbers, as it's the index of the dataframe."
   ]
  },
  {
   "cell_type": "code",
   "execution_count": 20,
   "id": "4550992f",
   "metadata": {},
   "outputs": [
    {
     "data": {
      "text/plain": [
       "315"
      ]
     },
     "execution_count": 20,
     "metadata": {},
     "output_type": "execute_result"
    }
   ],
   "source": [
    "books[\"isbn\"].duplicated().sum()"
   ]
  },
  {
   "cell_type": "markdown",
   "id": "091eeb20",
   "metadata": {},
   "source": [
    "After cleaning the ISBN numbers, we're left with 315 duplicate books now. This time we do keep one of the duplicates each."
   ]
  },
  {
   "cell_type": "code",
   "execution_count": 21,
   "id": "4d8105d9",
   "metadata": {},
   "outputs": [],
   "source": [
    "books = books.drop_duplicates(subset=[\"isbn\"])"
   ]
  },
  {
   "cell_type": "markdown",
   "id": "fb163b49",
   "metadata": {},
   "source": [
    "## Final wrap-up"
   ]
  },
  {
   "cell_type": "markdown",
   "id": "f1e1b14f",
   "metadata": {},
   "source": [
    "Here are now our final dataframes."
   ]
  },
  {
   "cell_type": "code",
   "execution_count": 22,
   "id": "3f014184",
   "metadata": {},
   "outputs": [
    {
     "name": "stdout",
     "output_type": "stream",
     "text": [
      "<class 'pandas.core.frame.DataFrame'>\n",
      "Index: 1140457 entries, 0 to 1149778\n",
      "Data columns (total 3 columns):\n",
      " #   Column       Non-Null Count    Dtype \n",
      "---  ------       --------------    ----- \n",
      " 0   user_id      1140457 non-null  int64 \n",
      " 1   isbn         1140457 non-null  object\n",
      " 2   book_rating  1140457 non-null  int64 \n",
      "dtypes: int64(2), object(1)\n",
      "memory usage: 34.8+ MB\n"
     ]
    }
   ],
   "source": [
    "ratings.info()"
   ]
  },
  {
   "cell_type": "markdown",
   "id": "ee74d8c2",
   "metadata": {},
   "source": [
    "After cleaning the dataset we are down now from 1149780 to 1140472 rows."
   ]
  },
  {
   "cell_type": "code",
   "execution_count": 23,
   "id": "b28d993c",
   "metadata": {},
   "outputs": [
    {
     "name": "stdout",
     "output_type": "stream",
     "text": [
      "<class 'pandas.core.frame.DataFrame'>\n",
      "Index: 270947 entries, 0 to 271378\n",
      "Data columns (total 5 columns):\n",
      " #   Column            Non-Null Count   Dtype \n",
      "---  ------            --------------   ----- \n",
      " 0   isbn              270947 non-null  object\n",
      " 1   book_title        270947 non-null  object\n",
      " 2   book_author       270945 non-null  object\n",
      " 3   publication_year  270947 non-null  int64 \n",
      " 4   publisher         270945 non-null  object\n",
      "dtypes: int64(1), object(4)\n",
      "memory usage: 12.4+ MB\n"
     ]
    }
   ],
   "source": [
    "books.info()"
   ]
  },
  {
   "cell_type": "markdown",
   "id": "468c5cab",
   "metadata": {},
   "source": [
    "For the books dataset we are down from 271379 to 270947 rows.\n",
    "\n",
    "**Note:** 2 authors and 2 publishers missing. But they are not of importance for the purposes of this project so this issue will be ignored."
   ]
  }
 ],
 "metadata": {
  "kernelspec": {
   "display_name": "Python 3 (ipykernel)",
   "language": "python",
   "name": "python3"
  },
  "language_info": {
   "codemirror_mode": {
    "name": "ipython",
    "version": 3
   },
   "file_extension": ".py",
   "mimetype": "text/x-python",
   "name": "python",
   "nbconvert_exporter": "python",
   "pygments_lexer": "ipython3",
   "version": "3.11.8"
  }
 },
 "nbformat": 4,
 "nbformat_minor": 5
}
